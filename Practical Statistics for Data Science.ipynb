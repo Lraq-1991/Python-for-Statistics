{
  "cells": [
    {
      "cell_type": "markdown",
      "source": [
        "## Here I´m documenting some exercises using the book _Practical Statistics for Data Science_\n",
        "\n",
        "In the book the author uses R and Python but for this notebook I will use Python, R and Julia"
      ],
      "metadata": {
        "id": "3t3b04nEu1Rl"
      }
    },
    {
      "cell_type": "markdown",
      "metadata": {
        "id": "X0bw-LWbVfqi"
      },
      "source": [
        "## **Chapter 1: Exploratory Data Analysis**"
      ]
    },
    {
      "cell_type": "markdown",
      "source": [
        "Example 1: Location Estimates of Population and Murder Rates"
      ],
      "metadata": {
        "id": "aksxrxVXb_T7"
      }
    },
    {
      "cell_type": "code",
      "source": [
        "# Creating data frame\n",
        "using IJulia\n",
        "using DataFrames\n",
        "\n",
        "df = DataFrame(state = [\"Alabama\",\"Alaska\",\"Arizona\",\"Arkansas\",\"California\",\"Colorado\",\"Connecticut\",\"Delaware\"], population = [4779736,710231,6392017,2915918,37253956,5029196,3574097,897934], murder_rate = [5.7,5.6,4.7,5.6,4.4,2.8,2.4,5.8])"
      ],
      "metadata": {
        "id": "JM-NcrzukVNA",
        "outputId": "ff6b66f7-0518-449c-cdb7-2c75e960331c",
        "colab": {
          "base_uri": "https://localhost:8080/",
          "height": 268
        }
      },
      "execution_count": 1,
      "outputs": [
        {
          "output_type": "execute_result",
          "data": {
            "text/plain": [
              "\u001b[1m8×3 DataFrame\n",
              "\u001b[1m Row │\u001b[1m state       \u001b[1m population \u001b[1m murder_rate\n",
              "\u001b[1m     │\u001b[90m String      \u001b[90m Int64      \u001b[90m Float64\n",
              "─────┼──────────────────────────────────────\n",
              "   1 │ Alabama         4779736          5.7\n",
              "   2 │ Alaska           710231          5.6\n",
              "   3 │ Arizona         6392017          4.7\n",
              "   4 │ Arkansas        2915918          5.6\n",
              "   5 │ California     37253956          4.4\n",
              "   6 │ Colorado        5029196          2.8\n",
              "   7 │ Connecticut     3574097          2.4\n",
              "   8 │ Delaware         897934          5.8"
            ],
            "text/html": [
              "<div><div style = \"float: left;\"><span>8×3 DataFrame</span></div><div style = \"clear: both;\"></div></div><div class = \"data-frame\" style = \"overflow-x: scroll;\"><table class = \"data-frame\" style = \"margin-bottom: 6px;\"><thead><tr class = \"columnLabelRow\"><th class = \"stubheadLabel\" style = \"font-weight: bold; text-align: right;\">Row</th><th style = \"text-align: left;\">state</th><th style = \"text-align: left;\">population</th><th style = \"text-align: left;\">murder_rate</th></tr><tr class = \"columnLabelRow\"><th class = \"stubheadLabel\" style = \"font-weight: bold; text-align: right;\"></th><th title = \"String\" style = \"text-align: left;\">String</th><th title = \"Int64\" style = \"text-align: left;\">Int64</th><th title = \"Float64\" style = \"text-align: left;\">Float64</th></tr></thead><tbody><tr class = \"dataRow\"><td class = \"rowLabel\" style = \"font-weight: bold; text-align: right;\">1</td><td style = \"text-align: left;\">Alabama</td><td style = \"text-align: right;\">4779736</td><td style = \"text-align: right;\">5.7</td></tr><tr class = \"dataRow\"><td class = \"rowLabel\" style = \"font-weight: bold; text-align: right;\">2</td><td style = \"text-align: left;\">Alaska</td><td style = \"text-align: right;\">710231</td><td style = \"text-align: right;\">5.6</td></tr><tr class = \"dataRow\"><td class = \"rowLabel\" style = \"font-weight: bold; text-align: right;\">3</td><td style = \"text-align: left;\">Arizona</td><td style = \"text-align: right;\">6392017</td><td style = \"text-align: right;\">4.7</td></tr><tr class = \"dataRow\"><td class = \"rowLabel\" style = \"font-weight: bold; text-align: right;\">4</td><td style = \"text-align: left;\">Arkansas</td><td style = \"text-align: right;\">2915918</td><td style = \"text-align: right;\">5.6</td></tr><tr class = \"dataRow\"><td class = \"rowLabel\" style = \"font-weight: bold; text-align: right;\">5</td><td style = \"text-align: left;\">California</td><td style = \"text-align: right;\">37253956</td><td style = \"text-align: right;\">4.4</td></tr><tr class = \"dataRow\"><td class = \"rowLabel\" style = \"font-weight: bold; text-align: right;\">6</td><td style = \"text-align: left;\">Colorado</td><td style = \"text-align: right;\">5029196</td><td style = \"text-align: right;\">2.8</td></tr><tr class = \"dataRow\"><td class = \"rowLabel\" style = \"font-weight: bold; text-align: right;\">7</td><td style = \"text-align: left;\">Connecticut</td><td style = \"text-align: right;\">3574097</td><td style = \"text-align: right;\">2.4</td></tr><tr class = \"dataRow\"><td class = \"rowLabel\" style = \"font-weight: bold; text-align: right;\">8</td><td style = \"text-align: left;\">Delaware</td><td style = \"text-align: right;\">897934</td><td style = \"text-align: right;\">5.8</td></tr></tbody></table></div>"
            ],
            "text/latex": "\\begin{tabular}{r|ccc}\n\t& state & population & murder\\_rate\\\\\n\t\\hline\n\t& String & Int64 & Float64\\\\\n\t\\hline\n\t1 & Alabama & 4779736 & 5.7 \\\\\n\t2 & Alaska & 710231 & 5.6 \\\\\n\t3 & Arizona & 6392017 & 4.7 \\\\\n\t4 & Arkansas & 2915918 & 5.6 \\\\\n\t5 & California & 37253956 & 4.4 \\\\\n\t6 & Colorado & 5029196 & 2.8 \\\\\n\t7 & Connecticut & 3574097 & 2.4 \\\\\n\t8 & Delaware & 897934 & 5.8 \\\\\n\\end{tabular}\n"
          },
          "metadata": {},
          "execution_count": 1
        }
      ]
    },
    {
      "cell_type": "code",
      "source": [
        "# Compute the mean, trimmed mean, and median for the population using Julia\n",
        "\n",
        "using StatsBase\n",
        "using Statistics\n",
        "\n",
        "println(mean(df.population))\n",
        "println(mean(trim(df.population, prop = 0.1)))\n",
        "println(median(df.population))"
      ],
      "metadata": {
        "id": "OVlkulVUlskF",
        "outputId": "140504e8-fb99-4835-ffed-d1ded1df0bbb",
        "colab": {
          "base_uri": "https://localhost:8080/"
        }
      },
      "execution_count": 8,
      "outputs": [
        {
          "output_type": "stream",
          "name": "stdout",
          "text": [
            "7.694135625e6\n",
            "7.694135625e6\n",
            "4.1769165e6\n"
          ]
        }
      ]
    },
    {
      "cell_type": "code",
      "source": [],
      "metadata": {
        "id": "Hv40H71Jq2yp"
      },
      "execution_count": null,
      "outputs": []
    }
  ],
  "metadata": {
    "colab": {
      "provenance": []
    },
    "kernelspec": {
      "display_name": "Julia",
      "name": "julia"
    },
    "language_info": {
      "name": "julia"
    }
  },
  "nbformat": 4,
  "nbformat_minor": 0
}